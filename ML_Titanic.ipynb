{
 "cells": [
  {
   "cell_type": "markdown",
   "id": "c02f28aa",
   "metadata": {},
   "source": [
    "##### Probelm Definition"
   ]
  },
  {
   "cell_type": "markdown",
   "id": "45abb3cd",
   "metadata": {},
   "source": [
    "##### `Goal`: Predict whether a passenger survived the Titanic disaster (binary classification).\n",
    "\n",
    "##### `Business Value`: Such modeling mimics real-world survival analysis → can inform safety planning, risk prediction."
   ]
  },
  {
   "cell_type": "markdown",
   "id": "77459f3a",
   "metadata": {},
   "source": [
    "##### Import Libraries"
   ]
  },
  {
   "cell_type": "code",
   "execution_count": null,
   "id": "b96265e7",
   "metadata": {},
   "outputs": [],
   "source": [
    "import pandas as pd\n",
    "import numpy as np\n",
    "import matplotlib.pyplot as plt\n",
    "import seaborn as sns\n",
    "import joblib\n",
    "\n",
    "from sklearn.model_selection import train_test_split\n",
    "from sklearn.preprocessing import LabelEncoder, StandardScaler\n",
    "from sklearn.impute import SimpleImputer\n",
    "from sklearn.pipeline import Pipeline\n",
    "from sklearn.linear_model import LogisticRegression\n",
    "from sklearn.ensemble import RandomForestClassifier\n",
    "from sklearn.metrics import (\n",
    "    accuracy_score, roc_auc_score, classification_report,\n",
    "    confusion_matrix, roc_curve\n",
    ")\n",
    "\n",
    "from xgboost import XGBClassifier\n",
    "from xgboost import plot_importance\n"
   ]
  },
  {
   "cell_type": "markdown",
   "id": "9aa529f8",
   "metadata": {},
   "source": [
    "- Features include:\n",
    "\n",
    "    - PassengerId, Name, Age, Sex, Pclass (ticket class), Fare, Cabin, Embarked, SibSp, Parch, Survived (target)."
   ]
  },
  {
   "cell_type": "markdown",
   "id": "b6e828b6",
   "metadata": {},
   "source": [
    "##### Data Collection"
   ]
  },
  {
   "cell_type": "code",
   "execution_count": null,
   "id": "34333038",
   "metadata": {},
   "outputs": [],
   "source": [
    "# Load Dataset\n",
    "df = pd.read_csv(\"dataset/train.csv\")  \n",
    "df.head()"
   ]
  },
  {
   "cell_type": "markdown",
   "id": "98fb6a01",
   "metadata": {},
   "source": [
    "##### Data Inspection"
   ]
  },
  {
   "cell_type": "code",
   "execution_count": null,
   "id": "ba509c4b",
   "metadata": {},
   "outputs": [],
   "source": [
    "# Datatype info\n",
    "df.info()"
   ]
  },
  {
   "cell_type": "code",
   "execution_count": null,
   "id": "8f1b288d",
   "metadata": {},
   "outputs": [],
   "source": [
    "# Statistical Summary\n",
    "print(\"Shape:\", df.shape)\n",
    "df.describe()"
   ]
  },
  {
   "cell_type": "code",
   "execution_count": null,
   "id": "6718fb2f",
   "metadata": {},
   "outputs": [],
   "source": [
    "# Checking Missing data\n",
    "missing_data = []\n",
    "for column_name, null_rows in df.isnull().sum().items():\n",
    "    if null_rows > 0:\n",
    "        perc = null_rows / len(df) * 100\n",
    "        missing_data.append([column_name, null_rows, perc])\n",
    "\n",
    "missing_df = pd.DataFrame(missing_data, columns=[\"Column\", \"Missing Values\", \"Percentage\"])\n",
    "\n",
    "missing_df"
   ]
  },
  {
   "cell_type": "markdown",
   "id": "50713093",
   "metadata": {},
   "source": [
    "- Dataset contains 891 records with 12 columns\n",
    "- Features include Passenger details (Name, Sex, Age, Fare, Pclass, etc.).\n",
    "- Datatypes: mixture of numeric (int, float) and categorical (object).\n",
    "- Missing values in Age, Cabin, and Embarked."
   ]
  },
  {
   "cell_type": "markdown",
   "id": "003b149d",
   "metadata": {},
   "source": [
    "##### Data Preprocessing"
   ]
  },
  {
   "cell_type": "code",
   "execution_count": null,
   "id": "ddd461ef",
   "metadata": {},
   "outputs": [],
   "source": [
    "# Handling Missing data\n",
    "df[\"Age\"] = SimpleImputer(strategy=\"median\").fit_transform(df[[\"Age\"]])\n",
    "df[\"Fare\"] = SimpleImputer(strategy=\"median\").fit_transform(df[[\"Fare\"]])\n",
    "\n",
    "df[\"Embarked\"] = SimpleImputer(strategy=\"most_frequent\").fit_transform(df[[\"Embarked\"]])[:,0]\n",
    "\n",
    "# Checking missing data\n",
    "df.isnull().sum()"
   ]
  },
  {
   "cell_type": "code",
   "execution_count": null,
   "id": "e91c0e60",
   "metadata": {},
   "outputs": [],
   "source": [
    "# outliers\n",
    "\n",
    "cat_col = \"Sex\"\n",
    "\n",
    "exclude_cols = [\"PassengerId\", \"Pclass\", \"Fare\"]\n",
    "num_cols = [col for col in df.select_dtypes(include=\"number\").columns if col not in exclude_cols]\n",
    "\n",
    "melted_df = df.melt(id_vars=cat_col, value_vars=num_cols, var_name=\"NumericColumn\", value_name=\"Value\").dropna()\n",
    "custom_palette = {'male': '#4E79A7', 'female': '#FF6B6B'} \n",
    "plt.figure(figsize=(6, 4))\n",
    "sns.boxplot(x=\"NumericColumn\", y=\"Value\", hue=cat_col, data=melted_df, palette=custom_palette)\n",
    "plt.title(f\"Boxplots of Numeric Columns grouped by {cat_col}\")\n",
    "plt.xticks(rotation=45)\n",
    "plt.show()"
   ]
  },
  {
   "cell_type": "markdown",
   "id": "ab6f0d40",
   "metadata": {},
   "source": [
    "- Missing values imputaion\n",
    "    - Age, Fare &rarr; median since they are numeric and skewed.\n",
    "    - Embarked &rarr; most frequent since only 2 values missing.\n",
    "- Outliers found in Age column for gender group Male"
   ]
  },
  {
   "cell_type": "markdown",
   "id": "81a2abbf",
   "metadata": {},
   "source": [
    "##### Feature Engineering"
   ]
  },
  {
   "cell_type": "code",
   "execution_count": null,
   "id": "c88f12e3",
   "metadata": {},
   "outputs": [],
   "source": [
    "def extract_title(name: str):\n",
    "    import re\n",
    "    m = re.search(r\",\\s*([^\\.]+)\\.\", name)\n",
    "    return m.group(1).strip() if m else \"None\"\n",
    "\n",
    "df[\"Title\"] = df[\"Name\"].apply(extract_title)\n",
    "title_map = {\n",
    "    \"Mlle\": \"Miss\", \"Ms\": \"Miss\", \"Mme\": \"Mrs\",\n",
    "    \"Lady\": \"Royalty\", \"Countess\": \"Royalty\", \"Sir\": \"Royalty\",\n",
    "    \"Jonkheer\": \"Royalty\", \"Don\": \"Royalty\", \"Dona\": \"Royalty\",\n",
    "    \"Dr\": \"Officer\", \"Rev\": \"Officer\", \"Col\": \"Officer\",\n",
    "    \"Major\": \"Officer\", \"Capt\": \"Officer\"\n",
    "}\n",
    "df[\"Title\"] = df[\"Title\"].replace(title_map)\n",
    "\n",
    "# Family features (family size, alone indicator)\n",
    "df[\"FamilySize\"] = df[\"SibSp\"] + df[\"Parch\"] + 1\n",
    "df[\"IsAlone\"] = (df[\"FamilySize\"] == 1).astype(int)\n",
    "\n",
    "# Age groups\n",
    "def age_group(age):\n",
    "    if age < 18:\n",
    "        return \"Child\"\n",
    "    elif age < 60:\n",
    "        return \"Adult\"\n",
    "    else:\n",
    "        return \"Senior\"\n",
    "\n",
    "df[\"AgeGroup\"] = df[\"Age\"].apply(age_group)\n",
    "\n",
    "# Simplify Cabin → deck letter\n",
    "df[\"Deck\"] = df[\"Cabin\"].astype(str).str[0]\n",
    "df[\"Deck\"] = df[\"Deck\"].replace(\"n\", \"Unknown\")\n",
    "df"
   ]
  },
  {
   "cell_type": "markdown",
   "id": "b7173f31",
   "metadata": {},
   "source": [
    "- Title Extraction: passenger titles (Mr, Mrs, Miss, Master) from the Name column\n",
    "- New Features:\n",
    "    - FamilySize: captures group travel with siblings, spouse, parents and children.\n",
    "    - IsAlone: binary indicator if the passenger was alone.\n",
    "- Grouped Age into categories (child, adult, senior)\n",
    "- Simplify Cabin by using only the first letter (deck)"
   ]
  },
  {
   "cell_type": "markdown",
   "id": "51ce25af",
   "metadata": {},
   "source": [
    "##### Exploratory Data Analysis (EDA)"
   ]
  },
  {
   "cell_type": "code",
   "execution_count": null,
   "id": "bdb6b063",
   "metadata": {},
   "outputs": [],
   "source": [
    "# Passenger distribution in each categories\n",
    "\n",
    "categories = [\"Survived\", \"Pclass\", \"Sex\", \"SibSp\", \"Parch\", \"Embarked\"]\n",
    "palettes = ['Set2', 'husl', 'Set1', 'Set3', 'Paired', 'Pastel1']\n",
    "\n",
    "fig, axes = plt.subplots(2, 3, figsize=(15, 10))  \n",
    "axes = axes.flatten()\n",
    "\n",
    "total = len(df)\n",
    "\n",
    "for i, category in enumerate(categories):\n",
    "    ax = sns.countplot(data=df, x=category, hue=category, palette=palettes[i], dodge=False, legend=False, ax=axes[i])\n",
    "    ax.set_title(f\"Distribution of {category}\")\n",
    "    \n",
    "    for p in ax.patches:\n",
    "        height = p.get_height()\n",
    "        if height > 0:\n",
    "            percentage = 100 * height / total\n",
    "            ax.annotate(f'{percentage:.1f}%',\n",
    "                        (p.get_x() + p.get_width() / 2., height),\n",
    "                        ha='center', va='bottom', fontsize=8, color='black',\n",
    "                        xytext=(0, 3), textcoords='offset points')\n",
    "\n",
    "# fig.delaxes(axes[-1])\n",
    "\n",
    "plt.tight_layout()\n",
    "plt.show()\n",
    "\n"
   ]
  },
  {
   "cell_type": "code",
   "execution_count": null,
   "id": "7228043d",
   "metadata": {},
   "outputs": [],
   "source": [
    "# Gender percentage\n",
    "\n",
    "gender_df =pd.concat(\n",
    "    [\n",
    "        df[\"Sex\"].value_counts(), \n",
    "        df[\"Sex\"].value_counts(normalize=True).mul(100).round(2)\n",
    "    ], axis=1, keys=[\"Total\", \"Percentage\"]).reset_index()\n",
    "display(gender_df)\n",
    "\n",
    "plt.figure(figsize=(5, 4))\n",
    "\n",
    "ax = sns.barplot(data=gender_df, x='Sex', y='Percentage', hue ='Sex', palette=\"Set1\")\n",
    "\n",
    "for bar, total, percentage in zip(ax.patches,  gender_df[\"Total\"], gender_df[\"Percentage\"]):\n",
    "    ax.text(\n",
    "       x =  bar.get_x() + bar.get_width() / 2.0,\n",
    "       y =  bar.get_height() + 0.02,\n",
    "       s = f\"{total} ({percentage}%)\",\n",
    "       ha='center', va='bottom'\n",
    "    )\n",
    "\n",
    "plt.title('Total and Percentage of Males vs Females')\n",
    "plt.ylim(0, 110)\n",
    "plt.ylabel(\"Percentage\")\n",
    "plt.xlabel(\"Sex\")\n",
    "plt.show()"
   ]
  },
  {
   "cell_type": "markdown",
   "id": "bf8dbebd",
   "metadata": {},
   "source": [
    "- Out of 891 total passengers on board\n",
    "    - The majority of passengers were men 65% \n",
    "    - Female passengers were only 35%"
   ]
  },
  {
   "cell_type": "code",
   "execution_count": null,
   "id": "69ffb7c1",
   "metadata": {},
   "outputs": [],
   "source": [
    "# Survival Rate Plot\n",
    "\n",
    "def visualize_survival_rate(plot_df, attr, ax, order=None, xticks=None, title=None, palette=custom_palette):\n",
    "    survived_df = plot_df[plot_df['Survived'] == 1]    \n",
    "    survival_stats =pd.concat([\n",
    "        survived_df[attr].value_counts(),\n",
    "        survived_df[attr].value_counts(normalize=True).mul(100).round(2)\n",
    "        ], axis=1, keys=[\"Total\", \"Percentage\"]).reset_index()\n",
    "\n",
    "    # plt.figure(figsize=(6, 5))\n",
    "    sns.barplot(x=attr, y='Total', data=survival_stats, palette=palette, order=order, ax=ax)\n",
    "\n",
    "    for bar, total, perc in zip(ax.patches, survival_stats['Total'], survival_stats['Percentage']):\n",
    "        ax.text(\n",
    "            x = bar.get_x() + bar.get_width() / 2,\n",
    "            y = bar.get_height() + 1,\n",
    "            s = f\"{total} ({perc}%)\",\n",
    "            ha='center',\n",
    "            va='bottom'\n",
    "        )\n",
    "\n",
    "    ax.set_title(title)\n",
    "    ax.set_ylabel(\"Number of Survivors\")\n",
    "    ax.set_xlabel(attr)\n",
    "    if xticks is not None:\n",
    "        positions, labels = xticks\n",
    "        ax.set_xticks(positions)\n",
    "        ax.set_xticklabels(labels)\n",
    "\n",
    "    ax.set_ylim(0, survival_stats['Total'].max() * 1.15)\n"
   ]
  },
  {
   "cell_type": "code",
   "execution_count": null,
   "id": "b8cb97ba",
   "metadata": {},
   "outputs": [],
   "source": [
    "# Visualization\n",
    "import warnings\n",
    "warnings.filterwarnings(\"ignore\")\n",
    "\n",
    "fig, axes = plt.subplots(3, 2, figsize=(14, 15))\n",
    "axes = axes.flatten()\n",
    "\n",
    "# Survival by Gender\n",
    "visualize_survival_rate(df, attr=\"Sex\", ax=axes[0], title=\"Survival Rate by Gender\")\n",
    "\n",
    "# Survival by Ticket Class\n",
    "visualize_survival_rate(df, attr=\"Pclass\", ax=axes[1], title=\"Survival Rate by Ticket Class\", palette=\"Set3\")\n",
    "\n",
    "# Survival by Age Group\n",
    "visualize_survival_rate(df, attr=\"AgeGroup\", ax=axes[2], order=[\"Child\",\"Adult\",\"Senior\"], title=\"Survival Rate by Age Group\", palette='Set2')\n",
    "\n",
    "# Survival by Embarkation Port\n",
    "visualize_survival_rate(df, attr=\"Embarked\", ax=axes[3], title=\"Survival Rate by Embarkation Port\", palette=\"Set1\")\n",
    "\n",
    "# Alone vs Family\n",
    "df[\"IsAlone\"] = (df[\"FamilySize\"] == 1).astype(int)\n",
    "visualize_survival_rate(df, attr=\"IsAlone\", ax=axes[4], xticks=([0,1], [\"With Family\",\"Alone\"]), title=\"Survival Rate: Alone vs With Family\", palette=\"husl\")\n",
    "\n",
    "# Hide the last empty subplot\n",
    "axes[5].axis('off')\n",
    "\n",
    "plt.tight_layout()\n",
    "# plt.show()"
   ]
  },
  {
   "cell_type": "code",
   "execution_count": null,
   "id": "74128306",
   "metadata": {},
   "outputs": [],
   "source": [
    "# Drop column\n",
    "df = df.drop(columns=[\"Cabin\"])"
   ]
  },
  {
   "cell_type": "markdown",
   "id": "9fcc1979",
   "metadata": {},
   "source": [
    "- Cabin &rarr; dropped due to excessive missing values."
   ]
  },
  {
   "cell_type": "code",
   "execution_count": null,
   "id": "5b2bff5e",
   "metadata": {},
   "outputs": [],
   "source": [
    "# Correlation Heatmap\n",
    "plt.figure(figsize=(8,6))\n",
    "\n",
    "corr = df[[\"Survived\", \"Sex\", \"Pclass\", \"Fare\", \"Age\", \"SibSp\", \"Parch\"]].corr()\n",
    "\n",
    "sns.heatmap(corr, annot=True, cmap=\"coolwarm\", center=0, linewidths=0.5)\n",
    "plt.title(\"Correlation Heatmap with Survival\")\n",
    "plt.show()\n",
    "\n",
    "surv_corr = corr[\"Survived\"].sort_values(ascending=False)\n",
    "print(\"Correlation with survival:\\n\", surv_corr)"
   ]
  },
  {
   "cell_type": "markdown",
   "id": "46e5ee59",
   "metadata": {},
   "source": [
    "- Sex &rarr; strong negative correlation (since male=1, female=0 → being male reduces survival chance).\n",
    "- Pclass &rarr; negative correlation (higher class → better survival).\n",
    "- Fare &rarr; positive correlation (wealthier passengers had better odds).\n",
    "- Other features (Age, SibSp, Parch) have weaker correlations"
   ]
  },
  {
   "cell_type": "code",
   "execution_count": null,
   "id": "bab89c18",
   "metadata": {},
   "outputs": [],
   "source": [
    "# Encode categorical variables\n",
    "\n",
    "df[\"Sex\"] = LabelEncoder().fit_transform(df[\"Sex\"])\n",
    "# df = pd.get_dummies(df, columns=[\"Embarked\",\"Title\"], drop_first=True)\n",
    "\n",
    "features = [\"Pclass\", \"Sex\", \"Age\", \"Fare\", \"Embarked\", \n",
    "            \"FamilySize\", \"Title\", \"AgeGroup\", \"Deck\"]\n",
    "\n",
    "df_model = df[features + [\"Survived\"]].copy()\n",
    "df_model = pd.get_dummies(df_model, drop_first=True)\n",
    "\n",
    "display(df_model)\n",
    "\n",
    "# Features & target\n",
    "X = df_model.drop(\"Survived\", axis=1)\n",
    "y = df_model[\"Survived\"]\n",
    "\n",
    "X.head()\n",
    "# Train/test split\n",
    "X_train, X_test, y_train, y_test = train_test_split(X, y, test_size=0.2, stratify=y, random_state=42)\n"
   ]
  },
  {
   "cell_type": "markdown",
   "id": "d7ba3844",
   "metadata": {},
   "source": [
    "- Survival by gender: Women survived more than men.\n",
    "- Survival by class: Higher class → higher chance of survival.\n",
    "- Age distribution: Children had better survival odds.\n",
    "- Heatmap of correlations: Sex, Pclass, Fare strongly correlated with survival."
   ]
  },
  {
   "cell_type": "markdown",
   "id": "9f51bd4f",
   "metadata": {},
   "source": [
    "##### Logistic Regression"
   ]
  },
  {
   "cell_type": "code",
   "execution_count": null,
   "id": "4c8522a7",
   "metadata": {},
   "outputs": [],
   "source": [
    "# Scale & train logistic regression\n",
    "scaler = StandardScaler(with_mean=False)\n",
    "X_train_scaled = scaler.fit_transform(X_train)\n",
    "X_test_scaled = scaler.transform(X_test)\n",
    "\n",
    "logreg = LogisticRegression(max_iter=1000)\n",
    "logreg.fit(X_train_scaled, y_train)\n",
    "\n",
    "y_pred = logreg.predict(X_test_scaled)\n",
    "\n",
    "print(\"Accuracy:\", accuracy_score(y_test, y_pred))\n",
    "print(classification_report(y_test, y_pred))\n",
    "\n",
    "#Confusion matrix\n",
    "cm = confusion_matrix(y_test, y_pred)\n",
    "plt.figure(figsize=(6,5))\n",
    "sns.heatmap(cm, annot=True, fmt=\"d\", cmap=\"Blues\", xticklabels=[\"Died\",\"Survived\"], yticklabels=[\"Died\",\"Survived\"],cbar=False)\n",
    "plt.xlabel('Predicted')\n",
    "plt.ylabel('Actual')\n",
    "plt.title(\"Confusion Matrix - Logistic Regression\")\n",
    "plt.show()\n",
    "\n",
    "# Feature importance\n",
    "coefficients = pd.Series(logreg.coef_[0], index=X_train.columns)\n",
    "coefficients = coefficients.sort_values()\n",
    "\n",
    "plt.figure(figsize=(8,6))\n",
    "coefficients.plot(kind=\"barh\", color=[\"red\" if c<0 else \"green\" for c in coefficients])\n",
    "plt.title(\"Feature Importance (Logistic Regression Coefficients)\")\n",
    "plt.xlabel(\"Coefficient Value\")\n",
    "plt.show()"
   ]
  },
  {
   "cell_type": "markdown",
   "id": "767db247",
   "metadata": {},
   "source": [
    "##### Random Forest"
   ]
  },
  {
   "cell_type": "code",
   "execution_count": null,
   "id": "62c61d51",
   "metadata": {},
   "outputs": [],
   "source": [
    "rf = RandomForestClassifier(n_estimators=400, max_depth=6, random_state=42)\n",
    "\n",
    "rf.fit(X_train, y_train)\n",
    "y_pred_rf = rf.predict(X_test)\n",
    "\n",
    "print(\"Random Forest Accuracy:\", accuracy_score(y_test, y_pred_rf))\n",
    "print(classification_report(y_test, y_pred_rf))\n",
    "\n",
    "# Confusion Matrix\n",
    "cm = confusion_matrix(y_test, y_pred_rf)\n",
    "plt.figure(figsize=(6,5))\n",
    "sns.heatmap(cm, annot=True, fmt=\"d\", cmap=\"PuRd\", xticklabels=[\"Died\",\"Survived\"], yticklabels=[\"Died\",\"Survived\"],cbar=False)\n",
    "plt.xlabel('Predicted')\n",
    "plt.ylabel('Actual')\n",
    "plt.title(\"Random Forest Confusion Matrix\")\n",
    "plt.show()\n",
    "\n",
    "\n",
    "# Feature importance\n",
    "importances = pd.Series(rf.feature_importances_, index=X_train.columns).sort_values(ascending=False)\n",
    "importances.head(10).plot(kind=\"barh\")\n",
    "plt.title(\"Top Feature Importances (Random Forest)\")\n",
    "plt.show()"
   ]
  },
  {
   "cell_type": "markdown",
   "id": "147008d5",
   "metadata": {},
   "source": [
    "##### XGBoost"
   ]
  },
  {
   "cell_type": "code",
   "execution_count": null,
   "id": "5b1c341f",
   "metadata": {},
   "outputs": [],
   "source": [
    "xgb = XGBClassifier(\n",
    "    n_estimators=300, \n",
    "    learning_rate=0.05, \n",
    "    max_depth=5, \n",
    "    random_state=42,\n",
    "    eval_metric=\"logloss\"\n",
    ")\n",
    "xgb.fit(X_train, y_train)\n",
    "\n",
    "y_pred_xgb = xgb.predict(X_test)\n",
    "\n",
    "print(\"XGBoost Accuracy:\", accuracy_score(y_test, y_pred_xgb))\n",
    "print(\"\\nClassification Report:\\n\", classification_report(y_test, y_pred_xgb))\n",
    "\n",
    "cm_xgb = confusion_matrix(y_test, y_pred_xgb)\n",
    "sns.heatmap(cm_xgb, annot=True, fmt=\"d\", cmap=\"Oranges\",xticklabels=[\"Died\",\"Survived\"], yticklabels=[\"Died\",\"Survived\"], cbar=False)\n",
    "plt.title(\"Confusion Matrix - XGBoost\")\n",
    "plt.xlabel('Predicted')\n",
    "plt.ylabel('Actual')\n",
    "plt.show()"
   ]
  },
  {
   "cell_type": "code",
   "execution_count": null,
   "id": "7b0e8396",
   "metadata": {},
   "outputs": [],
   "source": [
    "# Compare models\n",
    "from sklearn.metrics import accuracy_score, precision_score, recall_score, f1_score\n",
    "from sklearn.tree import DecisionTreeClassifier\n",
    "\n",
    "models = {\n",
    "    'Logistic Regression': LogisticRegression(max_iter = 200,class_weight='balanced'),\n",
    "    'Decision Tree': DecisionTreeClassifier(criterion='entropy', max_depth=5, min_samples_split=10, min_samples_leaf=10, random_state=42),\n",
    "    'Random Forest' : RandomForestClassifier(n_estimators=200, max_depth=6, random_state=42),\n",
    "    'XGBoost': XGBClassifier( n_estimators=200, learning_rate=0.05, max_depth=5, random_state=42,eval_metric=\"logloss\")\n",
    "}\n",
    "\n",
    "results = []\n",
    "\n",
    "for name, model in models.items():\n",
    "    model.fit(X_train, y_train)\n",
    "    y_pred = model.predict(X_test)\n",
    "    \n",
    "    acc = accuracy_score(y_test, y_pred)\n",
    "    prec = precision_score(y_test, y_pred)\n",
    "    rec = recall_score(y_test, y_pred)\n",
    "    f1 = f1_score(y_test, y_pred,average = \"weighted\")\n",
    "    \n",
    "    results.append([name, acc, prec, rec, f1])\n",
    "    results.sort(reverse=True)\n",
    "\n",
    "results_df = pd.DataFrame(results, columns=['Model', 'Accuracy', 'Precision', 'Recall', 'F1-Score'])\n",
    "results_df"
   ]
  },
  {
   "cell_type": "markdown",
   "id": "bdac0ac4",
   "metadata": {},
   "source": [
    "### Inference"
   ]
  },
  {
   "cell_type": "markdown",
   "id": "ced0df38",
   "metadata": {},
   "source": [
    "- The Titanic dataset contains demographic and ticket-related passenger information.\n",
    "- Missing values were mainly in `Age`, `Embarked`, and `Cabin`. We imputed `Age` with the median, \n",
    "  `Embarked` with the mode, and dropped `Cabin` due to excessive missingness.\n",
    "- Engineered features `FamilySize` and `IsAlone` added insights into group vs. solo travel.\n",
    "- EDA revealed:\n",
    "  - Women had much higher survival rates than men.\n",
    "  - Children had much higher survival rates as given high priority under such events of ship sinking.\n",
    "  - Higher passenger classes (1st class) had better survival chances.\n",
    "  - Being alone decreased the chance of survival thus family size influenced survival.\n",
    "- Logistic Regression achieved a reasonable accuracy (~78–82%), showing clear patterns in the data.\n",
    "- Future improvements could include more sophisticated models (Random Forest, Gradient Boosting) \n",
    "  and tuning hyperparameters for higher accuracy."
   ]
  },
  {
   "cell_type": "markdown",
   "id": "7f7ffcea",
   "metadata": {},
   "source": [
    "- Future improvements tried:\n",
    "    - Random Forest improved performance, capturing nonlinear interactions and giving better recall for survivors.\n",
    "    - XGBoost provides the best balance of accuracy and generalization on Titanic data."
   ]
  }
 ],
 "metadata": {
  "kernelspec": {
   "display_name": "base",
   "language": "python",
   "name": "python3"
  },
  "language_info": {
   "codemirror_mode": {
    "name": "ipython",
    "version": 3
   },
   "file_extension": ".py",
   "mimetype": "text/x-python",
   "name": "python",
   "nbconvert_exporter": "python",
   "pygments_lexer": "ipython3",
   "version": "3.12.2"
  }
 },
 "nbformat": 4,
 "nbformat_minor": 5
}
